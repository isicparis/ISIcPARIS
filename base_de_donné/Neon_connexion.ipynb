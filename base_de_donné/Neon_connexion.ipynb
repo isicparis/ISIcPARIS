{
  "nbformat": 4,
  "nbformat_minor": 0,
  "metadata": {
    "colab": {
      "provenance": []
    },
    "kernelspec": {
      "name": "python3",
      "display_name": "Python 3"
    },
    "language_info": {
      "name": "python"
    }
  },
  "cells": [
    {
      "cell_type": "code",
      "execution_count": 1,
      "metadata": {
        "colab": {
          "base_uri": "https://localhost:8080/"
        },
        "id": "2N12GKA4MLGA",
        "outputId": "1273eabe-662a-4710-d5fd-b0e0608a9a19"
      },
      "outputs": [
        {
          "output_type": "stream",
          "name": "stdout",
          "text": [
            "Mounted at /content/drive\n"
          ]
        }
      ],
      "source": [
        "from google.colab import drive\n",
        "drive.mount('/content/drive')\n"
      ]
    },
    {
      "cell_type": "code",
      "source": [
        "pip install psycopg2-binary"
      ],
      "metadata": {
        "id": "wBFQZ1ETMYsR",
        "colab": {
          "base_uri": "https://localhost:8080/"
        },
        "outputId": "2b51b100-f48b-406a-9214-c74be5884771"
      },
      "execution_count": 2,
      "outputs": [
        {
          "output_type": "stream",
          "name": "stdout",
          "text": [
            "Collecting psycopg2-binary\n",
            "  Downloading psycopg2_binary-2.9.10-cp310-cp310-manylinux_2_17_x86_64.manylinux2014_x86_64.whl.metadata (4.9 kB)\n",
            "Downloading psycopg2_binary-2.9.10-cp310-cp310-manylinux_2_17_x86_64.manylinux2014_x86_64.whl (3.0 MB)\n",
            "\u001b[2K   \u001b[90m━━━━━━━━━━━━━━━━━━━━━━━━━━━━━━━━━━━━━━━━\u001b[0m \u001b[32m3.0/3.0 MB\u001b[0m \u001b[31m23.3 MB/s\u001b[0m eta \u001b[36m0:00:00\u001b[0m\n",
            "\u001b[?25hInstalling collected packages: psycopg2-binary\n",
            "Successfully installed psycopg2-binary-2.9.10\n"
          ]
        }
      ]
    },
    {
      "cell_type": "code",
      "source": [
        "import psycopg2\n",
        "conn = psycopg2.connect(database = \"plante\",\n",
        "                        user = \"plante_owner\",\n",
        "                        host= 'ep-bold-boat-a2s83w2r.eu-central-1.aws.neon.tech',\n",
        "                        password = \"1hnumc8qDlUi\",\n",
        "                        port = 5432)"
      ],
      "metadata": {
        "id": "mElXc1cJNoY9"
      },
      "execution_count": 53,
      "outputs": []
    },
    {
      "cell_type": "code",
      "source": [
        "#Open a cursor to perform database operations\n",
        "cur = conn.cursor()"
      ],
      "metadata": {
        "id": "n8EcTEdFGhJX"
      },
      "execution_count": 54,
      "outputs": []
    },
    {
      "cell_type": "markdown",
      "source": [
        "\n",
        "# Creation de la base de donné\n",
        "\n"
      ],
      "metadata": {
        "id": "Ddmg62R2Lf0c"
      }
    },
    {
      "cell_type": "markdown",
      "source": [
        "Création table plantes:"
      ],
      "metadata": {
        "id": "IDuOcoUfNbWu"
      }
    },
    {
      "cell_type": "code",
      "source": [
        "\n",
        "# Execute a command: create datacamp_courses table\n",
        "cur.execute(\"\"\"CREATE TABLE Plantes (\n",
        "    ID_plante SERIAL PRIMARY KEY,\n",
        "    Nom_scientifique VARCHAR(255) NOT NULL,\n",
        "    Nom_commun VARCHAR(255),\n",
        "    Famille VARCHAR(255),\n",
        "    Genre VARCHAR(255),\n",
        "    Espèce VARCHAR(255),\n",
        "    Variété VARCHAR(255),\n",
        "    Description TEXT,\n",
        "    Image TEXT,\n",
        "    Quantité INT NOT NULL,\n",
        "    Prix_achat NUMERIC(10, 2),\n",
        "    Prix_vente NUMERIC(10, 2),\n",
        "    Tags TEXT[] DEFAULT '{}'\n",
        ");\"\"\")\n",
        "# Make the changes to the database persistent\n",
        "conn.commit()\n"
      ],
      "metadata": {
        "id": "CuiXodo8QBqF"
      },
      "execution_count": 12,
      "outputs": []
    },
    {
      "cell_type": "code",
      "source": [
        "# Execute a command: create datacamp_courses table\n",
        "cur.execute(\"\"\"CREATE TABLE Clients (\n",
        "    ID_client SERIAL PRIMARY KEY,\n",
        "    Nom VARCHAR(255) NOT NULL,\n",
        "    Prénom VARCHAR(255) NOT NULL,\n",
        "    Adresse TEXT,\n",
        "    Téléphone VARCHAR(15),\n",
        "    Email VARCHAR(255) UNIQUE NOT NULL\n",
        ");\"\"\")\n",
        "# Make the changes to the database persistent\n",
        "conn.commit()"
      ],
      "metadata": {
        "id": "XfrvfLi3LXRn"
      },
      "execution_count": 16,
      "outputs": []
    },
    {
      "cell_type": "code",
      "source": [
        "# Execute a command: create datacamp_courses table\n",
        "cur.execute(\"\"\"CREATE TABLE Commandes (\n",
        "    ID_commande SERIAL PRIMARY KEY,\n",
        "    ID_client INT NOT NULL REFERENCES Clients(ID_client) ON DELETE CASCADE,\n",
        "    Date_commande TIMESTAMP NOT NULL DEFAULT CURRENT_TIMESTAMP,\n",
        "    État_commande VARCHAR(50) CHECK (État_commande IN ('en cours', 'expédiée', 'livrée'))\n",
        ");\"\"\")\n",
        "# Make the changes to the database persistent\n",
        "conn.commit()"
      ],
      "metadata": {
        "id": "iRJqPv8oN0ri"
      },
      "execution_count": 17,
      "outputs": []
    },
    {
      "cell_type": "code",
      "source": [
        "# Execute a command: create datacamp_courses table\n",
        "cur.execute(\"\"\"CREATE TABLE Lignes_commandes (\n",
        "    ID_ligne_commande SERIAL PRIMARY KEY,\n",
        "    ID_commande INT NOT NULL REFERENCES Commandes(ID_commande) ON DELETE CASCADE,\n",
        "    ID_plante INT NOT NULL REFERENCES Plantes(ID_plante) ON DELETE CASCADE,\n",
        "    Quantité_commandée INT NOT NULL,\n",
        "    Prix_unitaire NUMERIC(10, 2) NOT NULL\n",
        ");\"\"\")\n",
        "# Make the changes to the database persistent\n",
        "conn.commit()"
      ],
      "metadata": {
        "id": "lZ3QQjVGN8Vp"
      },
      "execution_count": 18,
      "outputs": []
    },
    {
      "cell_type": "code",
      "source": [
        "# Execute a command\n",
        "cur.execute(\"\"\"INSERT INTO Plantes\n",
        "(Nom_scientifique, Nom_commun, Famille, Genre, Espèce, Variété, Description, Image, Quantité, Prix_achat, Prix_vente, Tags) VALUES\n",
        "('Rosa chinensis', 'Rosier de Chine', 'Rosaceae', 'Rosa', 'chinensis', NULL, 'Arbuste à fleurs.', 'rose.jpg', 100, 5.00, 10.00, ARRAY['extérieur', 'fleurs']),\n",
        "('Lavandula angustifolia', 'Lavande', 'Lamiaceae', 'Lavandula', 'angustifolia', NULL, 'Plante aromatique.', 'lavande.jpg', 200, 3.00, 7.00, ARRAY['aromatique', 'extérieur']),\n",
        "('Aloe vera', 'Aloès', 'Asphodelaceae', 'Aloe', 'vera', NULL, 'Plante médicinale.', 'aloe.jpg', 80, 12.00, 20.00, ARRAY['médicinal', 'intérieur']),\n",
        "('Ocimum basilicum', 'Basilic', 'Lamiaceae', 'Ocimum', 'basilicum', NULL, 'Plante aromatique utilisée en cuisine.', 'basilic.jpg', 300, 1.50, 4.00, ARRAY['aromatique', 'cuisine']),\n",
        "('Citrus sinensis', 'Oranger', 'Rutaceae', 'Citrus', 'sinensis', NULL, 'Arbre fruitier.', 'oranger.jpg', 25, 15.00, 25.00, ARRAY['fruit', 'extérieur']),\n",
        "('Mentha spicata', 'Menthe verte', 'Lamiaceae', 'Mentha', 'spicata', NULL, 'Plante aromatique.', 'menthe.jpg', 150, 2.00, 5.00, ARRAY['aromatique', 'infusion']),\n",
        "('Tulipa gesneriana', 'Tulipe', 'Liliaceae', 'Tulipa', 'gesneriana', NULL, 'Fleur colorée.', 'tulipe.jpg', 120, 4.00, 8.00, ARRAY['fleurs', 'extérieur']),\n",
        "('Chamaedorea elegans', 'Palmier nain', 'Arecaceae', 'Chamaedorea', 'elegans', NULL, 'Plante d''intérieur.', 'palmier.jpg', 30, 8.00, 12.00, ARRAY['intérieur', 'ombre']),\n",
        "('Dracaena marginata', 'Dragonnier', 'Asparagaceae', 'Dracaena', 'marginata', NULL, 'Plante verte élégante.', 'dracaena.jpg', 40, 15.00, 25.00, ARRAY['intérieur', 'décoration']);\"\"\")\n",
        "# Make the changes to the database persistent\n",
        "conn.commit()"
      ],
      "metadata": {
        "id": "f7l-ZrgWOFep"
      },
      "execution_count": 39,
      "outputs": []
    },
    {
      "cell_type": "code",
      "source": [],
      "metadata": {
        "id": "CdrAbBcgSeWW"
      },
      "execution_count": 38,
      "outputs": []
    },
    {
      "cell_type": "markdown",
      "source": [
        "# Amélioration des tags"
      ],
      "metadata": {
        "id": "33O8NjrZXaQL"
      }
    },
    {
      "cell_type": "code",
      "source": [
        "cur.execute(\"\"\"UPDATE Plantes\n",
        "SET Tags = ARRAY['intérieur', 'ombre', 'vert', 'grande taille', 'décoratif', 'Moraceae', 'abordable', 'tropical', 'facile', 'non toxique','purifie l''air']\n",
        "WHERE Nom_scientifique = 'Ficus benjamina';\"\"\")\n",
        "cur.execute(\"\"\"UPDATE Plantes\n",
        "SET Tags = ARRAY['extérieur', 'fleurs', 'rose', 'moyenne taille', 'cadeau', 'décoratif', 'Rosaceae', 'abordable', 'printemps', 'ensoleillé', 'modéré', 'romantique']\n",
        "WHERE Nom_scientifique = 'Rosa chinensis';\"\"\")\n",
        "cur.execute(\"\"\"UPDATE Plantes\n",
        "SET Tags = ARRAY['aromatique', 'extérieur', 'violet', 'petite taille', 'décoratif', 'Lamiaceae', 'peu cher', 'méditerranéen', 'ensoleillé', 'facile', 'repousse insectes']\n",
        "WHERE Nom_scientifique = 'Lavandula angustifolia';\"\"\")\n",
        "cur.execute(\"\"\"UPDATE Plantes\n",
        "SET Tags = ARRAY['médicinal', 'intérieur', 'vert', 'moyenne taille', 'cadeau', 'Asphodelaceae', 'modéré', 'désertique', 'lumineux', 'facile', 'toxique pour animaux']\n",
        "WHERE Nom_scientifique = 'Aloe vera';\"\"\")\n",
        "cur.execute(\"\"\"UPDATE Plantes\n",
        "SET Tags = ARRAY['aromatique', 'extérieur', 'vert', 'petite taille', 'culinaire', 'Lamiaceae', 'peu cher', 'ensoleillé', 'culture facile', 'parfumé']\n",
        "WHERE Nom_scientifique = 'Ocimum basilicum';\"\"\")\n",
        "cur.execute(\"\"\"UPDATE Plantes\n",
        "SET Tags = ARRAY['fruit', 'extérieur', 'orange', 'grande taille', 'cadeau', 'Rutaceae', 'cher', 'ensoleillé', 'arbre fruitier', 'parfumé', 'tropical']\n",
        "WHERE Nom_scientifique = 'Citrus sinensis';\"\"\")\n",
        "cur.execute(\"\"\"UPDATE Plantes\n",
        "SET Tags = ARRAY['aromatique', 'extérieur', 'vert', 'petite taille', 'culinaire', 'Lamiaceae', 'peu cher', 'culture facile', 'infusion', 'parfumé', 'repousse insectes']\n",
        "WHERE Nom_scientifique = 'Mentha spicata';\"\"\")\n",
        "cur.execute(\"\"\"UPDATE Plantes\n",
        "SET Tags = ARRAY['fleurs', 'extérieur', 'rouge', 'moyenne taille', 'cadeau', 'décoratif', 'Liliaceae', 'abordable', 'printemps', 'culture modérée', 'ornemental']\n",
        "WHERE Nom_scientifique = 'Tulipa gesneriana';\"\"\")\n",
        "cur.execute(\"\"\"UPDATE Plantes\n",
        "SET Tags = ARRAY['intérieur', 'vert', 'petite taille', 'décoratif', 'Arecaceae', 'cher', 'ombre', 'tropical', 'facile', 'non toxique', 'purifie l''air']\n",
        "WHERE Nom_scientifique = 'Chamaedorea elegans';\"\"\")\n",
        "cur.execute(\"\"\"UPDATE Plantes\n",
        "SET Tags = ARRAY['succulente', 'intérieur', 'vert', 'petite taille', 'cadeau', 'décoratif', 'Crassulaceae', 'modéré', 'ensoleillé', 'plante grasse', 'facile', 'faible entretien']\n",
        "WHERE Nom_scientifique = 'Echeveria elegans';\"\"\")\n",
        "\n",
        "conn.commit()\n",
        "\n",
        "\n"
      ],
      "metadata": {
        "id": "98qbGUcyXi4w"
      },
      "execution_count": 55,
      "outputs": []
    },
    {
      "cell_type": "code",
      "source": [
        "# Close cursor and communication with the database\n",
        "cur.close()\n",
        "conn.close()"
      ],
      "metadata": {
        "id": "uHuNgqjyLPqv"
      },
      "execution_count": null,
      "outputs": []
    }
  ]
}