{
  "nbformat": 4,
  "nbformat_minor": 0,
  "metadata": {
    "colab": {
      "provenance": []
    },
    "kernelspec": {
      "name": "python3",
      "display_name": "Python 3"
    },
    "language_info": {
      "name": "python"
    }
  },
  "cells": [
    {
      "cell_type": "code",
      "execution_count": null,
      "metadata": {
        "colab": {
          "base_uri": "https://localhost:8080/"
        },
        "id": "FKTj_jL_1A3-",
        "outputId": "85b55f96-99b2-43ab-c8af-642f77166eeb"
      },
      "outputs": [
        {
          "output_type": "stream",
          "name": "stdout",
          "text": [
            "Mounted at /content/drive\n"
          ]
        }
      ],
      "source": [
        "from google.colab import drive\n",
        "drive.mount('/content/drive')"
      ]
    },
    {
      "cell_type": "code",
      "source": [
        "pip install psycopg2-binary"
      ],
      "metadata": {
        "colab": {
          "base_uri": "https://localhost:8080/"
        },
        "id": "tBiAuipw1i8d",
        "outputId": "8fc60170-03cd-4390-ee6d-833b15a18dde"
      },
      "execution_count": null,
      "outputs": [
        {
          "output_type": "stream",
          "name": "stdout",
          "text": [
            "Collecting psycopg2-binary\n",
            "  Downloading psycopg2_binary-2.9.10-cp310-cp310-manylinux_2_17_x86_64.manylinux2014_x86_64.whl.metadata (4.9 kB)\n",
            "Downloading psycopg2_binary-2.9.10-cp310-cp310-manylinux_2_17_x86_64.manylinux2014_x86_64.whl (3.0 MB)\n",
            "\u001b[2K   \u001b[90m━━━━━━━━━━━━━━━━━━━━━━━━━━━━━━━━━━━━━━━━\u001b[0m \u001b[32m3.0/3.0 MB\u001b[0m \u001b[31m28.0 MB/s\u001b[0m eta \u001b[36m0:00:00\u001b[0m\n",
            "\u001b[?25hInstalling collected packages: psycopg2-binary\n",
            "Successfully installed psycopg2-binary-2.9.10\n"
          ]
        }
      ]
    },
    {
      "cell_type": "code",
      "source": [
        "import psycopg2\n",
        "conn = psycopg2.connect(database = \"plante\",\n",
        "                        user = \"plante_owner\",\n",
        "                        host= 'ep-bold-boat-a2s83w2r.eu-central-1.aws.neon.tech',\n",
        "                        password = \"1hnumc8qDlUi\",\n",
        "                        port = 5432)"
      ],
      "metadata": {
        "id": "uJ_ymiWy1lkP"
      },
      "execution_count": null,
      "outputs": []
    },
    {
      "cell_type": "code",
      "source": [
        "#Open a cursor to perform database operations\n",
        "cur = conn.cursor()"
      ],
      "metadata": {
        "id": "6k7ZHGjd1nMp"
      },
      "execution_count": null,
      "outputs": []
    },
    {
      "cell_type": "code",
      "source": [
        "# Execute a command: create datacamp_courses table\n",
        "cur.execute(\"\"\"SELECT * FROM Plantes;\"\"\")\n",
        "liste=cur.fetchall()\n",
        "print(liste)"
      ],
      "metadata": {
        "colab": {
          "base_uri": "https://localhost:8080/"
        },
        "id": "dPuL8cDT1xVE",
        "outputId": "405b3441-3bf6-4b54-8c4e-3ce1823a45e7"
      },
      "execution_count": null,
      "outputs": [
        {
          "output_type": "stream",
          "name": "stdout",
          "text": [
            "[(6, 'Citrus sinensis', 'Oranger', 'Rutaceae', 'Citrus', 'sinensis', 'Arbre fruitier.', 'oranger.jpg', 25, Decimal('15.00'), Decimal('25.00'), ['fruit', 'extérieur', 'orange', 'grande taille', 'cadeau', 'Rutaceae', 'cher', 'ensoleillé', 'arbre fruitier', 'parfumé', 'tropical'], 'Fleurs ornementales', 'Haut entretien', 'Forte lumière', 'Fréquent', 'Buissonnant', True, False, 'Bleu', 'Moyen', 'Printemps', 'Asiatique'), (7, 'Mentha spicata', 'Menthe verte', 'Lamiaceae', 'Mentha', 'spicata', 'Plante aromatique.', 'menthe.jpg', 150, Decimal('2.00'), Decimal('5.00'), ['aromatique', 'extérieur', 'vert', 'petite taille', 'culinaire', 'Lamiaceae', 'peu cher', 'culture facile', 'infusion', 'parfumé', 'repousse insectes'], 'Plantes grasses', 'Faible entretien', 'Modéré', 'Peu fréquent', 'Buissonnant', False, False, 'Vert clair', 'Petit', \"Toute l'année\", 'Afrique'), (8, 'Tulipa gesneriana', 'Tulipe', 'Liliaceae', 'Tulipa', 'gesneriana', 'Fleur colorée.', 'tulipe.jpg', 120, Decimal('4.00'), Decimal('8.00'), ['fleurs', 'extérieur', 'rouge', 'moyenne taille', 'cadeau', 'décoratif', 'Liliaceae', 'abordable', 'printemps', 'culture modérée', 'ornemental'], 'Arbres fruitiers', 'Moyen entretien', 'Forte lumière', 'Modéré', 'Érigé', True, False, 'Blanc', 'Grand', 'Automne', 'Méditerranéen'), (9, 'Chamaedorea elegans', 'Palmier nain', 'Arecaceae', 'Chamaedorea', 'elegans', \"Plante d'intérieur.\", 'palmier.jpg', 30, Decimal('8.00'), Decimal('12.00'), ['intérieur', 'vert', 'petite taille', 'décoratif', 'Arecaceae', 'cher', 'ombre', 'tropical', 'facile', 'non toxique', \"purifie l'air\"], 'Plantes aquatiques', 'Haut entretien', 'Modéré', 'Constante', 'Flottant', True, False, 'Rose', 'Petit', \"Toute l'année\", 'Tropical'), (10, 'Dracaena marginata', 'Dragonnier', 'Asparagaceae', 'Dracaena', 'marginata', 'Plante verte élégante.', 'dracaena.jpg', 40, Decimal('15.00'), Decimal('25.00'), ['intérieur', 'ombre', 'tropical', 'grande taille', 'décoratif', 'Asparagaceae', 'modéré', 'facile', \"purifie l'air\"], 'Plantes grimpantes', 'Moyen entretien', 'Modéré', 'Modéré', 'Grimpant', True, True, 'Blanc et jaune', 'Grand', 'Été', 'Asie'), (1, 'Ficus benjamina', 'Figuier pleureur', 'Moraceae', 'Ficus', 'benjamina', \"Plante d'intérieur populaire.\", 'ficus.jpg', 50, Decimal('10.00'), Decimal('15.00'), ['intérieur', 'ombre', 'vert', 'grande taille', 'décoratif', 'Moraceae', 'abordable', 'tropical', 'facile', 'non toxique', \"purifie l'air\"], \"Plantes d'intérieur\", 'Entretien moyen', 'Faible lumière', 'Modéré', 'Buissonnant', False, False, 'Vert', 'Grand', \"Toute l'année\", 'Tropical'), (2, 'Rosa chinensis', 'Rosier de Chine', 'Rosaceae', 'Rosa', 'chinensis', 'Arbuste à fleurs.', 'rose.jpg', 100, Decimal('5.00'), Decimal('10.00'), ['extérieur', 'fleurs', 'rose', 'moyenne taille', 'cadeau', 'décoratif', 'Rosaceae', 'abordable', 'printemps', 'ensoleillé', 'modéré', 'romantique'], \"Plantes d'extérieur\", 'Haut entretien', 'Forte lumière', 'Fréquent', 'Buissonnant', True, False, 'Rouge', 'Moyen', 'Printemps', 'Tempéré'), (3, 'Lavandula angustifolia', 'Lavande', 'Lamiaceae', 'Lavandula', 'angustifolia', 'Plante aromatique.', 'lavande.jpg', 200, Decimal('3.00'), Decimal('7.00'), ['aromatique', 'extérieur', 'violet', 'petite taille', 'décoratif', 'Lamiaceae', 'peu cher', 'méditerranéen', 'ensoleillé', 'facile', 'repousse insectes'], 'Herbes aromatiques', 'Faible entretien', 'Forte lumière', 'Peu fréquent', 'Buissonnant', False, False, 'Violet', 'Petit', \"Toute l'année\", 'Méditerranéen'), (4, 'Aloe vera', 'Aloès', 'Asphodelaceae', 'Aloe', 'vera', 'Plante médicinale.', 'aloe.jpg', 80, Decimal('12.00'), Decimal('20.00'), ['médicinal', 'intérieur', 'vert', 'moyenne taille', 'cadeau', 'Asphodelaceae', 'modéré', 'désertique', 'lumineux', 'facile', 'toxique pour animaux'], 'Plantes médicinales', 'Entretien moyen', 'Forte lumière', 'Peu fréquent', 'Buissonnant', False, True, 'Vert', 'Moyen', \"Toute l'année\", 'Désertique'), (5, 'Ocimum basilicum', 'Basilic', 'Lamiaceae', 'Ocimum', 'basilicum', 'Plante aromatique utilisée en cuisine.', 'basilic.jpg', 300, Decimal('1.50'), Decimal('4.00'), ['aromatique', 'extérieur', 'vert', 'petite taille', 'culinaire', 'Lamiaceae', 'peu cher', 'ensoleillé', 'culture facile', 'parfumé'], 'Cactus', 'Faible entretien', 'Forte lumière', 'Rare', 'Érigé', True, False, 'Jaune', 'Petit', 'Été', 'Désertique')]\n"
          ]
        }
      ]
    },
    {
      "cell_type": "markdown",
      "source": [],
      "metadata": {
        "id": "iywlopBSS-_p"
      }
    },
    {
      "cell_type": "markdown",
      "source": [
        "# Création de corpus"
      ],
      "metadata": {
        "id": "YGd3dfGmAjQM"
      }
    },
    {
      "cell_type": "code",
      "source": [
        "\n",
        "corpus={}\n",
        "for i in range(len(liste)):\n",
        "  corpus[liste[i][0]]=liste[i][1]+\"/\"+liste[i][2]+\"/\"+liste[i][3]+\"/\"+liste[i][4]+\"/\"+liste[i][5]+\"/\"+liste[i][7]+\"/\"+liste[i][12]+\"/\"+liste[i][13]+\"/\"+liste[i][14]+\"/\"+liste[i][15]+\"/\"+liste[i][16]+\"/\"+liste[i][19]+\"/\"+liste[i][20]+\"/\"+liste[i][21]+\"/\"+liste[i][22]+\"/\"\n",
        "  l=liste[i][11]\n",
        "  for j in l:\n",
        "    corpus[liste[i][0]]=corpus[liste[i][0]]+j+\"/\"\n",
        "  if (liste[i][17]):\n",
        "    corpus[liste[i][0]]=corpus[liste[i][0]]+\"florissante\"+\"/\"\n",
        "  else:\n",
        "    corpus[liste[i][0]]=corpus[liste[i][0]]+\"non florissante\"+\"/\"\n",
        "  if liste[i][18]:\n",
        "    corpus[liste[i][0]]=corpus[liste[i][0]]+\"toxique\"+\"/\"\n",
        "  else:\n",
        "    corpus[liste[i][0]]=corpus[liste[i][0]]+\"non toxique\"\n",
        "print(corpus)"
      ],
      "metadata": {
        "colab": {
          "base_uri": "https://localhost:8080/"
        },
        "id": "9Ec5TGxC6z-r",
        "outputId": "f4887859-7065-4755-9c4d-dd4a34f772ee"
      },
      "execution_count": null,
      "outputs": [
        {
          "output_type": "stream",
          "name": "stdout",
          "text": [
            "{6: 'Citrus sinensis/Oranger/Rutaceae/Citrus/sinensis/oranger.jpg/Fleurs ornementales/Haut entretien/Forte lumière/Fréquent/Buissonnant/Bleu/Moyen/Printemps/Asiatique/fruit/extérieur/orange/grande taille/cadeau/Rutaceae/cher/ensoleillé/arbre fruitier/parfumé/tropical/florissante/non toxique', 7: \"Mentha spicata/Menthe verte/Lamiaceae/Mentha/spicata/menthe.jpg/Plantes grasses/Faible entretien/Modéré/Peu fréquent/Buissonnant/Vert clair/Petit/Toute l'année/Afrique/aromatique/extérieur/vert/petite taille/culinaire/Lamiaceae/peu cher/culture facile/infusion/parfumé/repousse insectes/non florissante/non toxique\", 8: 'Tulipa gesneriana/Tulipe/Liliaceae/Tulipa/gesneriana/tulipe.jpg/Arbres fruitiers/Moyen entretien/Forte lumière/Modéré/Érigé/Blanc/Grand/Automne/Méditerranéen/fleurs/extérieur/rouge/moyenne taille/cadeau/décoratif/Liliaceae/abordable/printemps/culture modérée/ornemental/florissante/non toxique', 9: \"Chamaedorea elegans/Palmier nain/Arecaceae/Chamaedorea/elegans/palmier.jpg/Plantes aquatiques/Haut entretien/Modéré/Constante/Flottant/Rose/Petit/Toute l'année/Tropical/intérieur/vert/petite taille/décoratif/Arecaceae/cher/ombre/tropical/facile/non toxique/purifie l'air/florissante/non toxique\", 10: \"Dracaena marginata/Dragonnier/Asparagaceae/Dracaena/marginata/dracaena.jpg/Plantes grimpantes/Moyen entretien/Modéré/Modéré/Grimpant/Blanc et jaune/Grand/Été/Asie/intérieur/ombre/tropical/grande taille/décoratif/Asparagaceae/modéré/facile/purifie l'air/florissante/toxique/\", 1: \"Ficus benjamina/Figuier pleureur/Moraceae/Ficus/benjamina/ficus.jpg/Plantes d'intérieur/Entretien moyen/Faible lumière/Modéré/Buissonnant/Vert/Grand/Toute l'année/Tropical/intérieur/ombre/vert/grande taille/décoratif/Moraceae/abordable/tropical/facile/non toxique/purifie l'air/non florissante/non toxique\", 2: \"Rosa chinensis/Rosier de Chine/Rosaceae/Rosa/chinensis/rose.jpg/Plantes d'extérieur/Haut entretien/Forte lumière/Fréquent/Buissonnant/Rouge/Moyen/Printemps/Tempéré/extérieur/fleurs/rose/moyenne taille/cadeau/décoratif/Rosaceae/abordable/printemps/ensoleillé/modéré/romantique/florissante/non toxique\", 3: \"Lavandula angustifolia/Lavande/Lamiaceae/Lavandula/angustifolia/lavande.jpg/Herbes aromatiques/Faible entretien/Forte lumière/Peu fréquent/Buissonnant/Violet/Petit/Toute l'année/Méditerranéen/aromatique/extérieur/violet/petite taille/décoratif/Lamiaceae/peu cher/méditerranéen/ensoleillé/facile/repousse insectes/non florissante/non toxique\", 4: \"Aloe vera/Aloès/Asphodelaceae/Aloe/vera/aloe.jpg/Plantes médicinales/Entretien moyen/Forte lumière/Peu fréquent/Buissonnant/Vert/Moyen/Toute l'année/Désertique/médicinal/intérieur/vert/moyenne taille/cadeau/Asphodelaceae/modéré/désertique/lumineux/facile/toxique pour animaux/non florissante/toxique/\", 5: 'Ocimum basilicum/Basilic/Lamiaceae/Ocimum/basilicum/basilic.jpg/Cactus/Faible entretien/Forte lumière/Rare/Érigé/Jaune/Petit/Été/Désertique/aromatique/extérieur/vert/petite taille/culinaire/Lamiaceae/peu cher/ensoleillé/culture facile/parfumé/florissante/non toxique'}\n"
          ]
        }
      ]
    },
    {
      "cell_type": "code",
      "source": [
        "def creation_corpus():\n",
        "  conn = psycopg2.connect(database = \"plante\",\n",
        "                        user = \"plante_owner\",\n",
        "                        host= 'ep-bold-boat-a2s83w2r.eu-central-1.aws.neon.tech',\n",
        "                        password = \"1hnumc8qDlUi\",\n",
        "                        port = 5432)\n",
        "\n",
        "  cur = conn.cursor()\n",
        "  cur.execute(\"\"\"SELECT * FROM Plantes;\"\"\")\n",
        "  liste=cur.fetchall()\n",
        "  corpus={}\n",
        "  for i in range(len(liste)):\n",
        "    corpus[liste[i][0]]=liste[i][1]+\"/\"+liste[i][2]+\"/\"+liste[i][3]+\"/\"+liste[i][4]+\"/\"+liste[i][5]+\"/\"+liste[i][7]+\"/\"+liste[i][12]+\"/\"+liste[i][13]+\"/\"+liste[i][14]+\"/\"+liste[i][15]+\"/\"+liste[i][16]+\"/\"+liste[i][19]+\"/\"+liste[i][20]+\"/\"+liste[i][21]+\"/\"+liste[i][22]+\"/\"\n",
        "    l=liste[i][11]\n",
        "    for j in l:\n",
        "      corpus[liste[i][0]]=corpus[liste[i][0]]+j+\"/\"\n",
        "    if (liste[i][17]):\n",
        "      corpus[liste[i][0]]=corpus[liste[i][0]]+\"florissante\"+\"/\"\n",
        "    else:\n",
        "      corpus[liste[i][0]]=corpus[liste[i][0]]+\"non florissante\"+\"/\"\n",
        "    if liste[i][18]:\n",
        "      corpus[liste[i][0]]=corpus[liste[i][0]]+\"toxique\"+\"/\"\n",
        "    else:\n",
        "      corpus[liste[i][0]]=corpus[liste[i][0]]+\"non toxique\"\n",
        "  return(corpus)"
      ],
      "metadata": {
        "id": "gG1UPPpHu8SN"
      },
      "execution_count": null,
      "outputs": []
    },
    {
      "cell_type": "markdown",
      "source": [
        "#Phase d'indexation :"
      ],
      "metadata": {
        "id": "EsnxOB1WAr2q"
      }
    },
    {
      "cell_type": "markdown",
      "source": [
        "***Importaion des bibliothéques ***"
      ],
      "metadata": {
        "id": "AAyaq4FtAwwg"
      }
    },
    {
      "cell_type": "code",
      "source": [
        "import nltk\n",
        "nltk.download(\"book\")"
      ],
      "metadata": {
        "colab": {
          "base_uri": "https://localhost:8080/"
        },
        "collapsed": true,
        "id": "np-kn2_uApOu",
        "outputId": "f532db5b-71b0-4d06-cb4a-4c6fee491387"
      },
      "execution_count": null,
      "outputs": [
        {
          "output_type": "stream",
          "name": "stderr",
          "text": [
            "[nltk_data] Downloading collection 'book'\n",
            "[nltk_data]    | \n",
            "[nltk_data]    | Downloading package abc to /root/nltk_data...\n",
            "[nltk_data]    |   Unzipping corpora/abc.zip.\n",
            "[nltk_data]    | Downloading package brown to /root/nltk_data...\n",
            "[nltk_data]    |   Unzipping corpora/brown.zip.\n",
            "[nltk_data]    | Downloading package chat80 to /root/nltk_data...\n",
            "[nltk_data]    |   Unzipping corpora/chat80.zip.\n",
            "[nltk_data]    | Downloading package cmudict to /root/nltk_data...\n",
            "[nltk_data]    |   Unzipping corpora/cmudict.zip.\n",
            "[nltk_data]    | Downloading package conll2000 to /root/nltk_data...\n",
            "[nltk_data]    |   Unzipping corpora/conll2000.zip.\n",
            "[nltk_data]    | Downloading package conll2002 to /root/nltk_data...\n",
            "[nltk_data]    |   Unzipping corpora/conll2002.zip.\n",
            "[nltk_data]    | Downloading package dependency_treebank to\n",
            "[nltk_data]    |     /root/nltk_data...\n",
            "[nltk_data]    |   Unzipping corpora/dependency_treebank.zip.\n",
            "[nltk_data]    | Downloading package genesis to /root/nltk_data...\n",
            "[nltk_data]    |   Unzipping corpora/genesis.zip.\n",
            "[nltk_data]    | Downloading package gutenberg to /root/nltk_data...\n",
            "[nltk_data]    |   Unzipping corpora/gutenberg.zip.\n",
            "[nltk_data]    | Downloading package ieer to /root/nltk_data...\n",
            "[nltk_data]    |   Unzipping corpora/ieer.zip.\n",
            "[nltk_data]    | Downloading package inaugural to /root/nltk_data...\n",
            "[nltk_data]    |   Unzipping corpora/inaugural.zip.\n",
            "[nltk_data]    | Downloading package movie_reviews to\n",
            "[nltk_data]    |     /root/nltk_data...\n",
            "[nltk_data]    |   Unzipping corpora/movie_reviews.zip.\n",
            "[nltk_data]    | Downloading package nps_chat to /root/nltk_data...\n",
            "[nltk_data]    |   Unzipping corpora/nps_chat.zip.\n",
            "[nltk_data]    | Downloading package names to /root/nltk_data...\n",
            "[nltk_data]    |   Unzipping corpora/names.zip.\n",
            "[nltk_data]    | Downloading package ppattach to /root/nltk_data...\n",
            "[nltk_data]    |   Unzipping corpora/ppattach.zip.\n",
            "[nltk_data]    | Downloading package reuters to /root/nltk_data...\n",
            "[nltk_data]    | Downloading package senseval to /root/nltk_data...\n",
            "[nltk_data]    |   Unzipping corpora/senseval.zip.\n",
            "[nltk_data]    | Downloading package state_union to /root/nltk_data...\n",
            "[nltk_data]    |   Unzipping corpora/state_union.zip.\n",
            "[nltk_data]    | Downloading package stopwords to /root/nltk_data...\n",
            "[nltk_data]    |   Unzipping corpora/stopwords.zip.\n",
            "[nltk_data]    | Downloading package swadesh to /root/nltk_data...\n",
            "[nltk_data]    |   Unzipping corpora/swadesh.zip.\n",
            "[nltk_data]    | Downloading package timit to /root/nltk_data...\n",
            "[nltk_data]    |   Unzipping corpora/timit.zip.\n",
            "[nltk_data]    | Downloading package treebank to /root/nltk_data...\n",
            "[nltk_data]    |   Unzipping corpora/treebank.zip.\n",
            "[nltk_data]    | Downloading package toolbox to /root/nltk_data...\n",
            "[nltk_data]    |   Unzipping corpora/toolbox.zip.\n",
            "[nltk_data]    | Downloading package udhr to /root/nltk_data...\n",
            "[nltk_data]    |   Unzipping corpora/udhr.zip.\n",
            "[nltk_data]    | Downloading package udhr2 to /root/nltk_data...\n",
            "[nltk_data]    |   Unzipping corpora/udhr2.zip.\n",
            "[nltk_data]    | Downloading package unicode_samples to\n",
            "[nltk_data]    |     /root/nltk_data...\n",
            "[nltk_data]    |   Unzipping corpora/unicode_samples.zip.\n",
            "[nltk_data]    | Downloading package webtext to /root/nltk_data...\n",
            "[nltk_data]    |   Unzipping corpora/webtext.zip.\n",
            "[nltk_data]    | Downloading package wordnet to /root/nltk_data...\n",
            "[nltk_data]    | Downloading package wordnet_ic to /root/nltk_data...\n",
            "[nltk_data]    |   Unzipping corpora/wordnet_ic.zip.\n",
            "[nltk_data]    | Downloading package words to /root/nltk_data...\n",
            "[nltk_data]    |   Unzipping corpora/words.zip.\n",
            "[nltk_data]    | Downloading package maxent_treebank_pos_tagger to\n",
            "[nltk_data]    |     /root/nltk_data...\n",
            "[nltk_data]    |   Unzipping taggers/maxent_treebank_pos_tagger.zip.\n",
            "[nltk_data]    | Downloading package maxent_ne_chunker to\n",
            "[nltk_data]    |     /root/nltk_data...\n",
            "[nltk_data]    |   Unzipping chunkers/maxent_ne_chunker.zip.\n",
            "[nltk_data]    | Downloading package universal_tagset to\n",
            "[nltk_data]    |     /root/nltk_data...\n",
            "[nltk_data]    |   Unzipping taggers/universal_tagset.zip.\n",
            "[nltk_data]    | Downloading package punkt to /root/nltk_data...\n",
            "[nltk_data]    |   Unzipping tokenizers/punkt.zip.\n",
            "[nltk_data]    | Downloading package book_grammars to\n",
            "[nltk_data]    |     /root/nltk_data...\n",
            "[nltk_data]    |   Unzipping grammars/book_grammars.zip.\n",
            "[nltk_data]    | Downloading package city_database to\n",
            "[nltk_data]    |     /root/nltk_data...\n",
            "[nltk_data]    |   Unzipping corpora/city_database.zip.\n",
            "[nltk_data]    | Downloading package tagsets to /root/nltk_data...\n",
            "[nltk_data]    |   Unzipping help/tagsets.zip.\n",
            "[nltk_data]    | Downloading package panlex_swadesh to\n",
            "[nltk_data]    |     /root/nltk_data...\n",
            "[nltk_data]    | Downloading package averaged_perceptron_tagger to\n",
            "[nltk_data]    |     /root/nltk_data...\n",
            "[nltk_data]    |   Unzipping taggers/averaged_perceptron_tagger.zip.\n",
            "[nltk_data]    | \n",
            "[nltk_data]  Done downloading collection book\n"
          ]
        },
        {
          "output_type": "execute_result",
          "data": {
            "text/plain": [
              "True"
            ]
          },
          "metadata": {},
          "execution_count": 7
        }
      ]
    },
    {
      "cell_type": "markdown",
      "source": [
        "**Prétraitement**: Tokenzation et filtration"
      ],
      "metadata": {
        "id": "OdOOqzJpBbe3"
      }
    },
    {
      "cell_type": "code",
      "source": [
        "#Importation des bibliothéques:\n",
        "import nltk\n",
        "nltk.download('punkt_tab')\n",
        "from nltk.tokenize import  word_tokenize\n",
        "from nltk.corpus import stopwords\n",
        "from nltk.stem import PorterStemmer\n",
        "stop_words = set(stopwords.words('french'))"
      ],
      "metadata": {
        "colab": {
          "base_uri": "https://localhost:8080/"
        },
        "id": "xnUrLBp7BSOW",
        "outputId": "f697444c-08d4-43d2-f262-986486b10ced"
      },
      "execution_count": null,
      "outputs": [
        {
          "output_type": "stream",
          "name": "stderr",
          "text": [
            "[nltk_data] Downloading package punkt_tab to /root/nltk_data...\n",
            "[nltk_data]   Unzipping tokenizers/punkt_tab.zip.\n"
          ]
        }
      ]
    },
    {
      "cell_type": "code",
      "source": [
        "#fontion qui filtre le corpus:\n",
        "def filter_corpus(corpus):\n",
        "  dict={}\n",
        "\n",
        "  for doc in corpus:\n",
        "    d=corpus[doc]\n",
        "    tokens = d.lower().split(\"/\")\n",
        "    filtered_text = [w for w in tokens if not (w in stop_words or w==\".\")]\n",
        "    dict[doc]=filtered_text\n",
        "\n",
        "  return(dict)"
      ],
      "metadata": {
        "id": "0EDAKnt-BrGf"
      },
      "execution_count": null,
      "outputs": []
    },
    {
      "cell_type": "code",
      "source": [
        "filtered_corpus=filter_corpus(corpus)\n",
        "print(filtered_corpus)"
      ],
      "metadata": {
        "colab": {
          "base_uri": "https://localhost:8080/"
        },
        "id": "0-N9d-EkCCKN",
        "outputId": "656917f2-3cbf-46c8-8eaf-9a0ce4373824"
      },
      "execution_count": null,
      "outputs": [
        {
          "output_type": "stream",
          "name": "stdout",
          "text": [
            "{6: ['citrus sinensis', 'oranger', 'rutaceae', 'citrus', 'sinensis', 'oranger.jpg', 'fleurs ornementales', 'haut entretien', 'forte lumière', 'fréquent', 'buissonnant', 'bleu', 'moyen', 'printemps', 'asiatique', 'fruit', 'extérieur', 'orange', 'grande taille', 'cadeau', 'rutaceae', 'cher', 'ensoleillé', 'arbre fruitier', 'parfumé', 'tropical', 'florissante', 'non toxique'], 7: ['mentha spicata', 'menthe verte', 'lamiaceae', 'mentha', 'spicata', 'menthe.jpg', 'plantes grasses', 'faible entretien', 'modéré', 'peu fréquent', 'buissonnant', 'vert clair', 'petit', \"toute l'année\", 'afrique', 'aromatique', 'extérieur', 'vert', 'petite taille', 'culinaire', 'lamiaceae', 'peu cher', 'culture facile', 'infusion', 'parfumé', 'repousse insectes', 'non florissante', 'non toxique'], 8: ['tulipa gesneriana', 'tulipe', 'liliaceae', 'tulipa', 'gesneriana', 'tulipe.jpg', 'arbres fruitiers', 'moyen entretien', 'forte lumière', 'modéré', 'érigé', 'blanc', 'grand', 'automne', 'méditerranéen', 'fleurs', 'extérieur', 'rouge', 'moyenne taille', 'cadeau', 'décoratif', 'liliaceae', 'abordable', 'printemps', 'culture modérée', 'ornemental', 'florissante', 'non toxique'], 9: ['chamaedorea elegans', 'palmier nain', 'arecaceae', 'chamaedorea', 'elegans', 'palmier.jpg', 'plantes aquatiques', 'haut entretien', 'modéré', 'constante', 'flottant', 'rose', 'petit', \"toute l'année\", 'tropical', 'intérieur', 'vert', 'petite taille', 'décoratif', 'arecaceae', 'cher', 'ombre', 'tropical', 'facile', 'non toxique', \"purifie l'air\", 'florissante', 'non toxique'], 10: ['dracaena marginata', 'dragonnier', 'asparagaceae', 'dracaena', 'marginata', 'dracaena.jpg', 'plantes grimpantes', 'moyen entretien', 'modéré', 'modéré', 'grimpant', 'blanc et jaune', 'grand', 'asie', 'intérieur', 'ombre', 'tropical', 'grande taille', 'décoratif', 'asparagaceae', 'modéré', 'facile', \"purifie l'air\", 'florissante', 'toxique', ''], 1: ['ficus benjamina', 'figuier pleureur', 'moraceae', 'ficus', 'benjamina', 'ficus.jpg', \"plantes d'intérieur\", 'entretien moyen', 'faible lumière', 'modéré', 'buissonnant', 'vert', 'grand', \"toute l'année\", 'tropical', 'intérieur', 'ombre', 'vert', 'grande taille', 'décoratif', 'moraceae', 'abordable', 'tropical', 'facile', 'non toxique', \"purifie l'air\", 'non florissante', 'non toxique'], 2: ['rosa chinensis', 'rosier de chine', 'rosaceae', 'rosa', 'chinensis', 'rose.jpg', \"plantes d'extérieur\", 'haut entretien', 'forte lumière', 'fréquent', 'buissonnant', 'rouge', 'moyen', 'printemps', 'tempéré', 'extérieur', 'fleurs', 'rose', 'moyenne taille', 'cadeau', 'décoratif', 'rosaceae', 'abordable', 'printemps', 'ensoleillé', 'modéré', 'romantique', 'florissante', 'non toxique'], 3: ['lavandula angustifolia', 'lavande', 'lamiaceae', 'lavandula', 'angustifolia', 'lavande.jpg', 'herbes aromatiques', 'faible entretien', 'forte lumière', 'peu fréquent', 'buissonnant', 'violet', 'petit', \"toute l'année\", 'méditerranéen', 'aromatique', 'extérieur', 'violet', 'petite taille', 'décoratif', 'lamiaceae', 'peu cher', 'méditerranéen', 'ensoleillé', 'facile', 'repousse insectes', 'non florissante', 'non toxique'], 4: ['aloe vera', 'aloès', 'asphodelaceae', 'aloe', 'vera', 'aloe.jpg', 'plantes médicinales', 'entretien moyen', 'forte lumière', 'peu fréquent', 'buissonnant', 'vert', 'moyen', \"toute l'année\", 'désertique', 'médicinal', 'intérieur', 'vert', 'moyenne taille', 'cadeau', 'asphodelaceae', 'modéré', 'désertique', 'lumineux', 'facile', 'toxique pour animaux', 'non florissante', 'toxique', ''], 5: ['ocimum basilicum', 'basilic', 'lamiaceae', 'ocimum', 'basilicum', 'basilic.jpg', 'cactus', 'faible entretien', 'forte lumière', 'rare', 'érigé', 'jaune', 'petit', 'désertique', 'aromatique', 'extérieur', 'vert', 'petite taille', 'culinaire', 'lamiaceae', 'peu cher', 'ensoleillé', 'culture facile', 'parfumé', 'florissante', 'non toxique']}\n"
          ]
        }
      ]
    },
    {
      "cell_type": "markdown",
      "source": [
        "***LEMMMATISATION***"
      ],
      "metadata": {
        "id": "A1pki7-cBp0B"
      }
    },
    {
      "cell_type": "code",
      "source": [
        "#cette fonction nous permet de lemmatizer chaque mot(token) dor corpus\n",
        "def lemmatizer(filtered_corpus):\n",
        "  #definir le lemmatizer ps\n",
        "  ps = PorterStemmer()\n",
        "  #initialiser in corpus lemmatisé initialement vide\n",
        "  lemmatized_corpus={}\n",
        "  for doc in filtered_corpus:\n",
        "      #initialiser in document lemmatisé\n",
        "      lemmatized_doc=[]\n",
        "      for w in filtered_corpus[doc]:\n",
        "        #lemmatiser a chaque fois un mot de doc de corpus et l'ajouter au queu de la corpus lemmatisé\n",
        "        lemmatized_doc.append(ps.stem(w))\n",
        "      #ajouter le resultat au document de lemmatized_corpus\n",
        "      lemmatized_corpus[doc]=lemmatized_doc\n",
        "  return(lemmatized_corpus)"
      ],
      "metadata": {
        "id": "UIkfGLWnBrHg"
      },
      "execution_count": null,
      "outputs": []
    },
    {
      "cell_type": "code",
      "source": [
        "lemmatized_corpus=lemmatizer(filtered_corpus)\n",
        "print(lemmatized_corpus)"
      ],
      "metadata": {
        "colab": {
          "base_uri": "https://localhost:8080/"
        },
        "id": "O7aITydlF_f3",
        "outputId": "116670f3-3540-4d4c-90f7-2c9e47a00581"
      },
      "execution_count": null,
      "outputs": [
        {
          "output_type": "stream",
          "name": "stdout",
          "text": [
            "{6: ['citrus sinensi', 'orang', 'rutacea', 'citru', 'sinensi', 'oranger.jpg', 'fleurs ornemental', 'haut entretien', 'forte lumièr', 'fréquent', 'buissonn', 'bleu', 'moyen', 'printemp', 'asiatiqu', 'fruit', 'extérieur', 'orang', 'grande tail', 'cadeau', 'rutacea', 'cher', 'ensoleillé', 'arbre fruiti', 'parfumé', 'tropic', 'florissant', 'non toxiqu'], 7: ['mentha spicata', 'menthe vert', 'lamiacea', 'mentha', 'spicata', 'menthe.jpg', 'plantes grass', 'faible entretien', 'modéré', 'peu fréquent', 'buissonn', 'vert clair', 'petit', \"toute l'anné\", 'afriqu', 'aromatiqu', 'extérieur', 'vert', 'petite tail', 'culinair', 'lamiacea', 'peu cher', 'culture facil', 'infus', 'parfumé', 'repousse insect', 'non florissant', 'non toxiqu'], 8: ['tulipa gesneriana', 'tulip', 'liliacea', 'tulipa', 'gesneriana', 'tulipe.jpg', 'arbres fruiti', 'moyen entretien', 'forte lumièr', 'modéré', 'érigé', 'blanc', 'grand', 'automn', 'méditerranéen', 'fleur', 'extérieur', 'roug', 'moyenne tail', 'cadeau', 'décoratif', 'liliacea', 'abord', 'printemp', 'culture modéré', 'ornement', 'florissant', 'non toxiqu'], 9: ['chamaedorea elegan', 'palmier nain', 'arecacea', 'chamaedorea', 'elegan', 'palmier.jpg', 'plantes aquatiqu', 'haut entretien', 'modéré', 'constant', 'flottant', 'rose', 'petit', \"toute l'anné\", 'tropic', 'intérieur', 'vert', 'petite tail', 'décoratif', 'arecacea', 'cher', 'ombr', 'tropic', 'facil', 'non toxiqu', \"purifie l'air\", 'florissant', 'non toxiqu'], 10: ['dracaena marginata', 'dragonni', 'asparagacea', 'dracaena', 'marginata', 'dracaena.jpg', 'plantes grimpant', 'moyen entretien', 'modéré', 'modéré', 'grimpant', 'blanc et jaun', 'grand', 'asi', 'intérieur', 'ombr', 'tropic', 'grande tail', 'décoratif', 'asparagacea', 'modéré', 'facil', \"purifie l'air\", 'florissant', 'toxiqu', ''], 1: ['ficus benjamina', 'figuier pleureur', 'moracea', 'ficu', 'benjamina', 'ficus.jpg', \"plantes d'intérieur\", 'entretien moyen', 'faible lumièr', 'modéré', 'buissonn', 'vert', 'grand', \"toute l'anné\", 'tropic', 'intérieur', 'ombr', 'vert', 'grande tail', 'décoratif', 'moracea', 'abord', 'tropic', 'facil', 'non toxiqu', \"purifie l'air\", 'non florissant', 'non toxiqu'], 2: ['rosa chinensi', 'rosier de chin', 'rosacea', 'rosa', 'chinensi', 'rose.jpg', \"plantes d'extérieur\", 'haut entretien', 'forte lumièr', 'fréquent', 'buissonn', 'roug', 'moyen', 'printemp', 'tempéré', 'extérieur', 'fleur', 'rose', 'moyenne tail', 'cadeau', 'décoratif', 'rosacea', 'abord', 'printemp', 'ensoleillé', 'modéré', 'romantiqu', 'florissant', 'non toxiqu'], 3: ['lavandula angustifolia', 'lavand', 'lamiacea', 'lavandula', 'angustifolia', 'lavande.jpg', 'herbes aromatiqu', 'faible entretien', 'forte lumièr', 'peu fréquent', 'buissonn', 'violet', 'petit', \"toute l'anné\", 'méditerranéen', 'aromatiqu', 'extérieur', 'violet', 'petite tail', 'décoratif', 'lamiacea', 'peu cher', 'méditerranéen', 'ensoleillé', 'facil', 'repousse insect', 'non florissant', 'non toxiqu'], 4: ['aloe vera', 'aloè', 'asphodelacea', 'alo', 'vera', 'aloe.jpg', 'plantes médicinal', 'entretien moyen', 'forte lumièr', 'peu fréquent', 'buissonn', 'vert', 'moyen', \"toute l'anné\", 'désertiqu', 'médicin', 'intérieur', 'vert', 'moyenne tail', 'cadeau', 'asphodelacea', 'modéré', 'désertiqu', 'lumineux', 'facil', 'toxique pour animaux', 'non florissant', 'toxiqu', ''], 5: ['ocimum basilicum', 'basil', 'lamiacea', 'ocimum', 'basilicum', 'basilic.jpg', 'cactu', 'faible entretien', 'forte lumièr', 'rare', 'érigé', 'jaun', 'petit', 'désertiqu', 'aromatiqu', 'extérieur', 'vert', 'petite tail', 'culinair', 'lamiacea', 'peu cher', 'ensoleillé', 'culture facil', 'parfumé', 'florissant', 'non toxiqu']}\n"
          ]
        }
      ]
    },
    {
      "cell_type": "markdown",
      "source": [
        "Phase d'attribution des poids"
      ],
      "metadata": {
        "id": "4Vl7jCUQ3lYf"
      }
    },
    {
      "cell_type": "code",
      "source": [
        "#pour calculer la frequence dun mot dans un document\n",
        "def wordfk_doc(doc,word):\n",
        "  all_words = []\n",
        "  for w in lemmatized_corpus[doc]:\n",
        "    all_words.append(w.lower())\n",
        "  all_words = nltk.FreqDist(all_words)\n",
        "  return(all_words[word])"
      ],
      "metadata": {
        "id": "0jUa0n2jPAQA"
      },
      "execution_count": null,
      "outputs": []
    },
    {
      "cell_type": "code",
      "source": [
        "print(wordfk_doc(1,\"exterieur\"))"
      ],
      "metadata": {
        "colab": {
          "base_uri": "https://localhost:8080/"
        },
        "id": "ZRoUlOyCPRHn",
        "outputId": "f4cf0bfc-1439-42ee-87c9-d8a03572fc69"
      },
      "execution_count": null,
      "outputs": [
        {
          "output_type": "stream",
          "name": "stdout",
          "text": [
            "0\n"
          ]
        }
      ]
    },
    {
      "cell_type": "code",
      "source": [
        "#corpus de fréquence des mots\n",
        "def wordfk_corp(filtered_corpus,word):\n",
        "  tf={}\n",
        "  for doc in filtered_corpus:\n",
        "    tf[doc]=wordfk_doc(doc,word)\n",
        "  return (tf)"
      ],
      "metadata": {
        "id": "CAaUY_50SW0o"
      },
      "execution_count": null,
      "outputs": []
    },
    {
      "cell_type": "code",
      "source": [
        "#fontion d'affrichage de fréquence de mot dans chaque document de corpus\n",
        "def affichage_tf(mot,corpus):\n",
        "  d=wordfk_corp(corpus,mot)\n",
        "  for doc in d:\n",
        "    print(\"le nombre d'occurence de mot \",mot,\"dans le document \",doc,\"est :\",d[doc])\n",
        "affichage_tf(\"vert\",lemmatized_corpus)"
      ],
      "metadata": {
        "colab": {
          "base_uri": "https://localhost:8080/"
        },
        "id": "QTQm8tHjSis2",
        "outputId": "5f8a3e6d-fc4a-43d2-b880-c9e96f6906c8"
      },
      "execution_count": null,
      "outputs": [
        {
          "output_type": "stream",
          "name": "stdout",
          "text": [
            "le nombre d'occurence de mot  vert dans le document  6 est : 0\n",
            "le nombre d'occurence de mot  vert dans le document  7 est : 1\n",
            "le nombre d'occurence de mot  vert dans le document  8 est : 0\n",
            "le nombre d'occurence de mot  vert dans le document  9 est : 1\n",
            "le nombre d'occurence de mot  vert dans le document  10 est : 0\n",
            "le nombre d'occurence de mot  vert dans le document  1 est : 2\n",
            "le nombre d'occurence de mot  vert dans le document  2 est : 0\n",
            "le nombre d'occurence de mot  vert dans le document  3 est : 0\n",
            "le nombre d'occurence de mot  vert dans le document  4 est : 2\n",
            "le nombre d'occurence de mot  vert dans le document  5 est : 1\n"
          ]
        }
      ]
    },
    {
      "cell_type": "code",
      "source": [
        "def liste_de_doc_ayant_mot(corpus,word):\n",
        "  liste=[]\n",
        "  for doc in corpus:\n",
        "    if word in corpus[doc] :\n",
        "      liste.append(doc)\n",
        "  return(liste)"
      ],
      "metadata": {
        "id": "M40obkGxTN02"
      },
      "execution_count": null,
      "outputs": []
    },
    {
      "cell_type": "code",
      "source": [
        "print(liste_de_doc_ayant_mot(lemmatized_corpus,\"vert\"))"
      ],
      "metadata": {
        "colab": {
          "base_uri": "https://localhost:8080/"
        },
        "id": "RhxlR_BlUb0s",
        "outputId": "e500a5a4-975e-4877-c6ac-71c4a60fd363"
      },
      "execution_count": null,
      "outputs": [
        {
          "output_type": "stream",
          "name": "stdout",
          "text": [
            "[7, 9, 1, 4, 5]\n"
          ]
        }
      ]
    },
    {
      "cell_type": "markdown",
      "source": [
        "*Calcule de poids*"
      ],
      "metadata": {
        "id": "OtYUC8nCUyBJ"
      }
    },
    {
      "cell_type": "code",
      "source": [
        "def nombre_de_doc_ayant_mot(word,corpus):\n",
        "  return(len(liste_de_doc_ayant_mot(lemmatized_corpus,word)))\n",
        "print(nombre_de_doc_ayant_mot(\"vert\",lemmatized_corpus))"
      ],
      "metadata": {
        "colab": {
          "base_uri": "https://localhost:8080/"
        },
        "id": "x3WxbK3CUDTL",
        "outputId": "0e292b16-829e-43ef-d65a-a1d855e1a1f1"
      },
      "execution_count": null,
      "outputs": [
        {
          "output_type": "stream",
          "name": "stdout",
          "text": [
            "5\n"
          ]
        }
      ]
    },
    {
      "cell_type": "code",
      "source": [
        "import math\n",
        "\n",
        "def poids_doc(doc, word, corpus):\n",
        "    tft = wordfk_doc(doc, word)  # Fonction à définir pour obtenir le nombre d'occurrences de 'word' dans 'doc'\n",
        "    N = len(corpus)  # Nombre total de documents dans le corpus\n",
        "\n",
        "    fdt = len(liste_de_doc_ayant_mot(corpus, word))  # Nombre de documents contenant le mot 'word' # Nombre de documents contenant le mot 'word'\n",
        "\n",
        "    if fdt == 0:\n",
        "        Wt = 0\n",
        "    else:\n",
        "        idf = math.log(N / fdt)  # Calcul de l'idf\n",
        "        if tft == 0:\n",
        "            Wt = 0\n",
        "        else:\n",
        "            Wt = (1 + math.log(tft)) * idf  # Cas général\n",
        "\n",
        "    return Wt"
      ],
      "metadata": {
        "id": "XMgxG5mbV7Zf"
      },
      "execution_count": null,
      "outputs": []
    },
    {
      "cell_type": "code",
      "source": [
        "def aff_poids(corpus,mot):\n",
        "  for doc in corpus:\n",
        "    print(\"poids de \",doc,\": \",poids_doc(doc,mot,corpus))\n",
        "aff_poids(lemmatized_corpus,\"orang\")"
      ],
      "metadata": {
        "colab": {
          "base_uri": "https://localhost:8080/"
        },
        "id": "ZyryD4muYi8n",
        "outputId": "3c501242-1e3b-4353-aff8-0d24369d5842"
      },
      "execution_count": null,
      "outputs": [
        {
          "output_type": "stream",
          "name": "stdout",
          "text": [
            "poids de  6 :  3.8986154582022285\n",
            "poids de  7 :  0\n",
            "poids de  8 :  0\n",
            "poids de  9 :  0\n",
            "poids de  10 :  0\n",
            "poids de  1 :  0\n",
            "poids de  2 :  0\n",
            "poids de  3 :  0\n",
            "poids de  4 :  0\n",
            "poids de  5 :  0\n"
          ]
        }
      ]
    },
    {
      "cell_type": "code",
      "source": [
        "mytexts = nltk.TextCollection(lemmatized_corpus.values())\n",
        "print(mytexts)"
      ],
      "metadata": {
        "colab": {
          "base_uri": "https://localhost:8080/"
        },
        "id": "5C5wgVO4ZmRq",
        "outputId": "a49e60be-f2ef-4343-ccc2-e6a0f4f76cf2"
      },
      "execution_count": null,
      "outputs": [
        {
          "output_type": "stream",
          "name": "stdout",
          "text": [
            "<Text: citrus sinensi orang rutacea citru sinensi oranger.jpg fleurs ornemental haut entretien...>\n"
          ]
        }
      ]
    },
    {
      "cell_type": "code",
      "source": [
        "def calc_tf_idf(word,doc):\n",
        "  tf_idf=mytexts.tf_idf(word, lemmatized_corpus[doc])\n",
        "  return(tf_idf)"
      ],
      "metadata": {
        "id": "3E-j8ModZ1iX"
      },
      "execution_count": null,
      "outputs": []
    },
    {
      "cell_type": "code",
      "source": [
        "def calcpoid(corpus,word):\n",
        "  dictpoids={}\n",
        "  for doc in corpus:\n",
        "    dictpoids[doc]=calc_tf_idf(word,doc)\n",
        "  return(dictpoids)"
      ],
      "metadata": {
        "id": "XcUHQd7Zcbvl"
      },
      "execution_count": null,
      "outputs": []
    },
    {
      "cell_type": "code",
      "source": [
        "print(calcpoid(lemmatized_corpus,\"vert\"))"
      ],
      "metadata": {
        "colab": {
          "base_uri": "https://localhost:8080/"
        },
        "id": "g_7eREzecfCT",
        "outputId": "f5c1efbd-ecf6-4e10-ff37-a0d5d65c389f"
      },
      "execution_count": null,
      "outputs": [
        {
          "output_type": "stream",
          "name": "stdout",
          "text": [
            "{6: 0.0, 7: 0.024755256448569473, 8: 0.0, 9: 0.024755256448569473, 10: 0.0, 1: 0.049510512897138946, 2: 0.0, 3: 0.0, 4: 0.04780325383172036, 5: 0.026659506944613283}\n"
          ]
        }
      ]
    },
    {
      "cell_type": "code",
      "source": [
        "def doc_pert(lemmatized_corpus,word):\n",
        "    d=calcpoid(lemmatized_corpus,word)\n",
        "    p = max(d.values())\n",
        "    d_inverse = {valeur: cle for cle, valeur in d.items()}\n",
        "    if (p==0):\n",
        "      docc=wordfk_corp(lemmatized_corpus,word)\n",
        "      m=docc[1]\n",
        "      for doc in docc:\n",
        "        if (docc[doc]>=m):\n",
        "          m=docc[doc]\n",
        "          pert= str(doc)\n",
        "      ch=\"le document le plus pertinant est : \"+ pert\n",
        "    else:\n",
        "      ch=\"le document le plus pertinant est : \"+str(d_inverse.get(p))\n",
        "    return ch"
      ],
      "metadata": {
        "id": "FVFU-qRddAXv"
      },
      "execution_count": null,
      "outputs": []
    },
    {
      "cell_type": "code",
      "source": [
        "def pertinance_par_ordre(corpus,word):\n",
        "  d=calcpoid(corpus,word)\n",
        "  liste_ordonnée=[(x,y) for x,y in sorted(d.items(),key=lambda x:x[1],reverse=True)]\n",
        "  doc_pertinant_ordonnés=[]\n",
        "  for i in range(len(liste_ordonnée)):\n",
        "    if (liste_ordonnée[i][1]!=0):\n",
        "      doc_pertinant_ordonnés.append(liste_ordonnée[i][0])\n",
        "  return(doc_pertinant_ordonnés)\n",
        "print(pertinance_par_pertinance(lemmatized_corpus,\"vert\"))\n",
        "\n"
      ],
      "metadata": {
        "colab": {
          "base_uri": "https://localhost:8080/"
        },
        "id": "dKBDMnumeIBx",
        "outputId": "a104758c-7197-4c1a-a565-960d3322c518"
      },
      "execution_count": null,
      "outputs": [
        {
          "output_type": "stream",
          "name": "stdout",
          "text": [
            "[1, 4, 5, 7, 9]\n"
          ]
        }
      ]
    },
    {
      "cell_type": "code",
      "source": [
        "def affichage_par_ordre_de_pertinance(corpus,word):\n",
        "  d=pertinance_par_ordre(corpus,word)\n",
        "  for i in range (len(d)):\n",
        "    print(\"document numéro \",i,\" : \",d[i])\n",
        "affichage_par_ordre_de_pertinance(lemmatized_corpus,\"orangé\")"
      ],
      "metadata": {
        "id": "ZOsK3PS9r7-a"
      },
      "execution_count": null,
      "outputs": []
    },
    {
      "cell_type": "markdown",
      "source": [
        "# **The main program**"
      ],
      "metadata": {
        "id": "9pHd99ZmyV_a"
      }
    },
    {
      "cell_type": "code",
      "source": [
        "def programme_affichage_par_ordre_de_pertinance(word):\n",
        "  ps = PorterStemmer()\n",
        "  word=ps.stem(word)\n",
        "  corpus=creation_corpus()\n",
        "  filtered_corpus=filter_corpus(corpus)\n",
        "  lemmatized_corpus=lemmatizer(filtered_corpus)\n",
        "  liste_finale=pertinance_par_ordre(lemmatized_corpus,word)\n",
        "  return(liste_finale)\n",
        "print(programme_affichage_par_ordre_de_pertinance(\"orange\"))"
      ],
      "metadata": {
        "colab": {
          "base_uri": "https://localhost:8080/"
        },
        "id": "gsb8WTINsnlZ",
        "outputId": "2431c5e1-9e74-4db7-99ae-7de5011dadfa"
      },
      "execution_count": null,
      "outputs": [
        {
          "output_type": "stream",
          "name": "stdout",
          "text": [
            "[6]\n"
          ]
        }
      ]
    },
    {
      "cell_type": "code",
      "source": [
        "!pip install googletrans"
      ],
      "metadata": {
        "id": "fsnwnRIF6ojR"
      },
      "execution_count": null,
      "outputs": []
    },
    {
      "cell_type": "code",
      "source": [
        "\n",
        "from nltk.stem import PorterStemmer\n",
        "from nltk.corpus import wordnet\n",
        "from googletrans import Translator\n",
        "\n",
        "# Fonction pour obtenir les synonymes\n",
        "def get_synonyms(word, source_language=\"fr\"):\n",
        "    translator = Translator()\n",
        "    synonyms = set()\n",
        "    try:\n",
        "        # Traduire le mot en anglais\n",
        "        translated = translator.translate(word, src=source_language, dest=\"en\").text\n",
        "        # Obtenir les synonymes en anglais\n",
        "        for syn in wordnet.synsets(translated):\n",
        "            for lemma in syn.lemmas():\n",
        "                # Traduire les synonymes en français\n",
        "                synonym_translated = translator.translate(lemma.name(), src=\"en\", dest=source_language).text\n",
        "                synonyms.add(synonym_translated)\n",
        "    except Exception as e:\n",
        "        print(f\"Erreur lors de la récupération des synonymes : {e}\")\n",
        "    return list(synonyms)\n",
        "print(get_synonyms(\"mal\"))\n",
        "\n",
        "# Fonction pour obtenir les traductions dans d'autres langues\n",
        "def get_translations(word, source_language=\"fr\", target_languages=[\"en\", \"es\", \"de\"]):\n",
        "    translator = Translator()\n",
        "    translations = set()\n",
        "    for lang in target_languages:\n",
        "        try:\n",
        "            translated = translator.translate(word, src=source_language, dest=lang).text\n",
        "            translations.add(translated)\n",
        "        except Exception as e:\n",
        "            print(f\"Erreur de traduction pour la langue {lang}: {e}\")\n",
        "    return list(translations)\n",
        "\n",
        "\n",
        "# Fonction principale\n",
        "def programme_affichage_par_ordre_de_pertinance(word):\n",
        "    ps = PorterStemmer()\n",
        "    word = ps.stem(word)\n",
        "\n",
        "    # Étendre la requête avec les synonymes et les traductions\n",
        "    synonyms = get_synonyms(word)\n",
        "    translations = get_translations(word)\n",
        "    extended_query = set([word] + synonyms + translations)\n",
        "\n",
        "    # Créer et traiter le corpus\n",
        "    corpus = creation_corpus()\n",
        "    filtered_corpus = filter_corpus(corpus)\n",
        "    lemmatized_corpus = lemmatizer(filtered_corpus)\n",
        "\n",
        "    # Calculer la pertinence pour chaque mot étendu\n",
        "    liste_finale = []\n",
        "    for query_word in extended_query:\n",
        "        liste_finale.extend(pertinance_par_ordre(lemmatized_corpus, query_word))\n",
        "\n",
        "    # Supprimer les doublons et trier par pertinence\n",
        "    liste_finale = list(set(liste_finale))  # Suppression des doublons\n",
        "    # liste_finale.sort(key=lambda x: x['pertinence'], reverse=True)  # Tri par pertinence\n",
        "\n",
        "    return liste_finale\n",
        "\n",
        "# Exemple d'utilisation\n",
        "print(programme_affichage_par_ordre_de_pertinance(\"vert\"))\n"
      ],
      "metadata": {
        "colab": {
          "base_uri": "https://localhost:8080/"
        },
        "id": "lrd36R7113M1",
        "outputId": "da4bd1c7-f8ca-4955-9148-eeef0b72a589"
      },
      "execution_count": null,
      "outputs": [
        {
          "output_type": "stream",
          "name": "stdout",
          "text": [
            "Erreur lors de la récupération des synonymes : 'coroutine' object has no attribute 'text'\n",
            "[]\n"
          ]
        },
        {
          "output_type": "stream",
          "name": "stderr",
          "text": [
            "<ipython-input-68-1c908eedf7f9>:19: RuntimeWarning: coroutine 'Translator.translate' was never awaited\n",
            "  print(f\"Erreur lors de la récupération des synonymes : {e}\")\n",
            "RuntimeWarning: Enable tracemalloc to get the object allocation traceback\n"
          ]
        },
        {
          "output_type": "stream",
          "name": "stdout",
          "text": [
            "Erreur lors de la récupération des synonymes : 'coroutine' object has no attribute 'text'\n",
            "Erreur de traduction pour la langue en: 'coroutine' object has no attribute 'text'\n",
            "Erreur de traduction pour la langue es: 'coroutine' object has no attribute 'text'\n",
            "Erreur de traduction pour la langue de: 'coroutine' object has no attribute 'text'\n"
          ]
        },
        {
          "output_type": "stream",
          "name": "stderr",
          "text": [
            "<ipython-input-68-1c908eedf7f9>:32: RuntimeWarning: coroutine 'Translator.translate' was never awaited\n",
            "  print(f\"Erreur de traduction pour la langue {lang}: {e}\")\n",
            "RuntimeWarning: Enable tracemalloc to get the object allocation traceback\n"
          ]
        },
        {
          "output_type": "stream",
          "name": "stdout",
          "text": [
            "[1, 4, 5, 7, 9]\n"
          ]
        }
      ]
    },
    {
      "cell_type": "code",
      "source": [
        "print(doc_pert(lemmatized_corpus,\"fruit\"))"
      ],
      "metadata": {
        "colab": {
          "base_uri": "https://localhost:8080/"
        },
        "id": "wknJM_b_dGNQ",
        "outputId": "d9048074-6160-4fdb-b79b-bf82f9b3c126"
      },
      "execution_count": null,
      "outputs": [
        {
          "output_type": "stream",
          "name": "stdout",
          "text": [
            "le document le plus pertinant est : 6\n"
          ]
        }
      ]
    },
    {
      "cell_type": "markdown",
      "source": [
        "**essaie avec l'intelligence artificielle**"
      ],
      "metadata": {
        "id": "Bxobj5yrylYY"
      }
    },
    {
      "cell_type": "code",
      "source": [
        "from sklearn.feature_extraction.text import TfidfVectorizer\n",
        "stop_word = set(stopwords.words('english'))\n",
        "corpus_train = [\n",
        "    'I love programming in Python.',\n",
        "    'Python is a great programming language.',\n",
        "    'I enjoy solving problems with Python.',\n",
        "    'Is programming in Python fun?',\n",
        "]\n",
        "corpus_test = [\n",
        "    'Programming in Python is enjoyable.',\n",
        "    'Python programming is very popular.',\n",
        "    'Do you love solving problems with Python?',\n",
        "    'Learning Python programming is rewarding.',\n",
        "]\n",
        "dict=[]\n",
        "i=0\n",
        "# for i in range(len(corpus_train)):\n",
        "#     d=corpus_train[i]\n",
        "#     tokens = word_tokenize(d)\n",
        "#     filtered_text = \" \".join(w for w in tokens if not (w in stop_word or w == \".\"))\n",
        "#     print(filtered_text)\n",
        "#     dict.append(filtered_text)\n",
        "#     print(dict)\n",
        "vectorizer = TfidfVectorizer()\n",
        "\n",
        "X1=vectorizer.fit(corpus_train)\n",
        "print(X1.get_params())\n",
        "\n",
        "X = vectorizer.fit_transform(corpus_train)\n",
        "print(\"deux\" ,X)\n",
        "Y = vectorizer.transform(corpus_test)\n",
        "# print((X).toarray())\n",
        "# print((Y).toarray())\n",
        "td_idf=(X).toarray()\n",
        "print(vectorizer.get_feature_names_out(4))\n",
        "liste_de_tf_idf_mot_indice_3=[w[3] for w in td_idf]\n",
        "# print(liste_de_tf_idf_mot_indice_3)\n",
        "# print(X.shape)\n",
        "\n"
      ],
      "metadata": {
        "colab": {
          "base_uri": "https://localhost:8080/"
        },
        "id": "eXip9vpc3AlT",
        "outputId": "d177547b-842b-407a-c12b-4c62a652b5a8"
      },
      "execution_count": null,
      "outputs": [
        {
          "output_type": "stream",
          "name": "stdout",
          "text": [
            "{'analyzer': 'word', 'binary': False, 'decode_error': 'strict', 'dtype': <class 'numpy.float64'>, 'encoding': 'utf-8', 'input': 'content', 'lowercase': True, 'max_df': 1.0, 'max_features': None, 'min_df': 1, 'ngram_range': (1, 1), 'norm': 'l2', 'preprocessor': None, 'smooth_idf': True, 'stop_words': None, 'strip_accents': None, 'sublinear_tf': False, 'token_pattern': '(?u)\\\\b\\\\w\\\\w+\\\\b', 'tokenizer': None, 'use_idf': True, 'vocabulary': None}\n",
            "deux   (0, 6)\t0.6591911178676787\n",
            "  (0, 8)\t0.42075315164463567\n",
            "  (0, 3)\t0.5197138488789809\n",
            "  (0, 9)\t0.3439932714296342\n",
            "  (1, 8)\t0.35129511991464274\n",
            "  (1, 9)\t0.28720677923469634\n",
            "  (1, 4)\t0.4339193613870813\n",
            "  (1, 2)\t0.5503716891788751\n",
            "  (1, 5)\t0.5503716891788751\n",
            "  (2, 9)\t0.25246826075544676\n",
            "  (2, 0)\t0.4838025881780501\n",
            "  (2, 10)\t0.4838025881780501\n",
            "  (2, 7)\t0.4838025881780501\n",
            "  (2, 11)\t0.4838025881780501\n",
            "  (3, 8)\t0.37334298451327075\n",
            "  (3, 3)\t0.46115286047158355\n",
            "  (3, 9)\t0.3052323532361606\n",
            "  (3, 4)\t0.46115286047158355\n",
            "  (3, 1)\t0.5849139295745928\n",
            "['enjoy' 'fun' 'great' 'in' 'is' 'language' 'love' 'problems'\n",
            " 'programming' 'python' 'solving' 'with']\n"
          ]
        }
      ]
    },
    {
      "cell_type": "markdown",
      "source": [],
      "metadata": {
        "id": "oZC0oTeuyjoq"
      }
    },
    {
      "cell_type": "code",
      "source": [],
      "metadata": {
        "id": "xnQNDQf8DcKo"
      },
      "execution_count": null,
      "outputs": []
    }
  ]
}